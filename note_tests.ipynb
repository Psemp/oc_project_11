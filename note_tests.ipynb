{
 "cells": [
  {
   "cell_type": "code",
   "execution_count": 2,
   "id": "7bf8d32c",
   "metadata": {},
   "outputs": [],
   "source": [
    "from app.scripts.startup import startup\n",
    "from app.scripts.combinations import find_routes\n",
    "from app.models.node import Node\n",
    "from app.models.route import Route\n",
    "from app.scripts.a_star import astar\n",
    "from collections import namedtuple\n",
    "import numpy as np"
   ]
  },
  {
   "cell_type": "code",
   "execution_count": 3,
   "id": "c56718bf",
   "metadata": {},
   "outputs": [],
   "source": [
    "assets = startup()\n"
   ]
  },
  {
   "cell_type": "code",
   "execution_count": 4,
   "id": "4426d3bf",
   "metadata": {},
   "outputs": [],
   "source": [
    "maze = assets[\"maze\"]\n",
    "possible_paths = assets[\"possible_paths\"]\n",
    "items = assets[\"items\"]\n",
    "characters = assets[\"characters\"]\n",
    "maze.box\n",
    "couple_list = find_routes(possible_paths)\n",
    "\n",
    "def get_ids(character_list, item_list):\n",
    "    \"\"\"associates map ids with position for node creation\"\"\"\n",
    "    id_dict = {}\n",
    "    for character in character_list:\n",
    "        id_dict[character.map_identifier] = character.position\n",
    "    for item in item_list:\n",
    "        id_dict[item.identifier] = item.position\n",
    "\n",
    "    return id_dict\n",
    "\n"
   ]
  },
  {
   "cell_type": "code",
   "execution_count": 5,
   "id": "098174ea",
   "metadata": {},
   "outputs": [
    {
     "data": {
      "text/plain": [
       "array([[1, 1, 1, 1, 1, 1, 1, 1, 1, 1, 1, 1, 1, 1, 1, 1, 1, 1, 1, 1],\n",
       "       [1, 0, 0, 0, 0, 0, 0, 0, 0, 0, 9, 0, 0, 0, 0, 0, 0, 0, 0, 1],\n",
       "       [1, 0, 0, 0, 0, 0, 0, 0, 0, 0, 0, 0, 0, 0, 5, 0, 0, 0, 0, 1],\n",
       "       [1, 0, 0, 0, 0, 0, 0, 0, 0, 0, 0, 0, 0, 0, 0, 0, 0, 0, 0, 1],\n",
       "       [1, 0, 1, 0, 0, 1, 1, 1, 0, 0, 0, 1, 1, 1, 1, 1, 0, 0, 0, 1],\n",
       "       [1, 0, 1, 1, 0, 0, 1, 1, 1, 1, 0, 1, 1, 1, 1, 1, 0, 0, 0, 1],\n",
       "       [1, 0, 1, 1, 1, 0, 0, 1, 1, 1, 0, 1, 1, 1, 0, 1, 0, 0, 4, 1],\n",
       "       [1, 0, 0, 0, 0, 0, 0, 0, 0, 0, 0, 0, 0, 0, 0, 1, 1, 0, 0, 1],\n",
       "       [1, 0, 0, 0, 0, 0, 0, 0, 0, 1, 0, 0, 0, 0, 0, 1, 1, 1, 0, 1],\n",
       "       [1, 0, 0, 1, 1, 0, 0, 0, 1, 1, 0, 0, 0, 0, 0, 0, 0, 0, 0, 1],\n",
       "       [1, 0, 0, 0, 1, 1, 1, 1, 0, 0, 0, 0, 0, 1, 1, 1, 1, 0, 0, 1],\n",
       "       [1, 0, 0, 0, 0, 1, 0, 1, 1, 0, 0, 0, 0, 0, 0, 1, 0, 0, 0, 1],\n",
       "       [1, 0, 0, 0, 1, 1, 0, 1, 0, 6, 0, 0, 0, 0, 0, 0, 0, 0, 0, 1],\n",
       "       [1, 0, 0, 0, 0, 0, 0, 0, 0, 0, 0, 0, 0, 0, 0, 0, 0, 0, 0, 1],\n",
       "       [1, 0, 0, 0, 0, 0, 0, 0, 0, 0, 0, 0, 0, 0, 0, 0, 0, 0, 0, 1],\n",
       "       [1, 0, 0, 0, 0, 1, 0, 1, 0, 1, 1, 1, 0, 0, 0, 0, 0, 0, 0, 1],\n",
       "       [1, 0, 0, 0, 0, 0, 0, 1, 0, 0, 0, 1, 0, 0, 0, 0, 0, 0, 0, 1],\n",
       "       [1, 0, 0, 0, 0, 0, 0, 1, 1, 1, 0, 1, 1, 1, 0, 0, 0, 0, 0, 1],\n",
       "       [1, 0, 0, 0, 0, 2, 0, 0, 0, 0, 0, 0, 0, 0, 0, 0, 0, 0, 0, 1],\n",
       "       [1, 1, 1, 1, 1, 1, 1, 1, 1, 1, 1, 1, 1, 1, 1, 1, 1, 1, 1, 1]])"
      ]
     },
     "execution_count": 5,
     "metadata": {},
     "output_type": "execute_result"
    }
   ],
   "source": [
    "maze.box\n"
   ]
  },
  {
   "cell_type": "code",
   "execution_count": 6,
   "id": "6bab5fbf",
   "metadata": {},
   "outputs": [
    {
     "data": {
      "text/plain": [
       "{9: Position(y_axis=1, x_axis=10),\n",
       " 2: Position(y_axis=18, x_axis=5),\n",
       " 4: Position(y_axis=6, x_axis=18),\n",
       " 5: Position(y_axis=2, x_axis=14),\n",
       " 6: Position(y_axis=12, x_axis=9)}"
      ]
     },
     "execution_count": 6,
     "metadata": {},
     "output_type": "execute_result"
    }
   ],
   "source": [
    "id_pos = get_ids(characters, items)\n",
    "id_pos"
   ]
  },
  {
   "cell_type": "code",
   "execution_count": 7,
   "id": "394dc376",
   "metadata": {},
   "outputs": [
    {
     "data": {
      "text/plain": [
       "[[2, 4, 5, 6, 9],\n",
       " [2, 4, 6, 5, 9],\n",
       " [2, 5, 4, 6, 9],\n",
       " [2, 5, 6, 4, 9],\n",
       " [2, 6, 4, 5, 9],\n",
       " [2, 6, 5, 4, 9]]"
      ]
     },
     "execution_count": 7,
     "metadata": {},
     "output_type": "execute_result"
    }
   ],
   "source": [
    "possible_paths"
   ]
  },
  {
   "cell_type": "code",
   "execution_count": 8,
   "id": "c98c6375",
   "metadata": {},
   "outputs": [],
   "source": [
    "def decompose_path(path):\n",
    "    decomposed_path = []\n",
    "    for i in range (len(path)):\n",
    "        try:\n",
    "            couple = (path[i], path[i + 1])\n",
    "            decomposed_path.append(couple)\n",
    "        except IndexError:\n",
    "            pass\n",
    "    return decomposed_path\n",
    "    "
   ]
  },
  {
   "cell_type": "code",
   "execution_count": 9,
   "id": "b5fc37e1",
   "metadata": {},
   "outputs": [
    {
     "data": {
      "text/plain": [
       "[[(2, 4), (4, 5), (5, 6), (6, 9)],\n",
       " [(2, 4), (4, 6), (6, 5), (5, 9)],\n",
       " [(2, 5), (5, 4), (4, 6), (6, 9)],\n",
       " [(2, 5), (5, 6), (6, 4), (4, 9)],\n",
       " [(2, 6), (6, 4), (4, 5), (5, 9)],\n",
       " [(2, 6), (6, 5), (5, 4), (4, 9)]]"
      ]
     },
     "execution_count": 9,
     "metadata": {},
     "output_type": "execute_result"
    }
   ],
   "source": [
    "decomposed_paths = []\n",
    "for path in possible_paths:\n",
    "    path = decompose_path(path)\n",
    "    decomposed_paths.append(path)\n",
    "\n",
    "decomposed_paths"
   ]
  },
  {
   "cell_type": "code",
   "execution_count": 10,
   "id": "1fa13728",
   "metadata": {},
   "outputs": [
    {
     "data": {
      "text/plain": [
       "[[(2, 4), (4, 5), (5, 6), (6, 9)],\n",
       " [(2, 4), (4, 6), (6, 5), (5, 9)],\n",
       " [(2, 5), (5, 4), (4, 6), (6, 9)],\n",
       " [(2, 5), (5, 6), (6, 4), (4, 9)],\n",
       " [(2, 6), (6, 4), (4, 5), (5, 9)],\n",
       " [(2, 6), (6, 5), (5, 4), (4, 9)]]"
      ]
     },
     "execution_count": 10,
     "metadata": {},
     "output_type": "execute_result"
    }
   ],
   "source": [
    "route_list = []\n",
    "\n",
    "for idx_list in decomposed_paths:\n",
    "    route = Route(idx_list)\n",
    "    route_list.append(route)\n",
    "\n",
    "route_list"
   ]
  },
  {
   "cell_type": "code",
   "execution_count": 11,
   "id": "8b7b32c6",
   "metadata": {},
   "outputs": [],
   "source": [
    "def evaluate_all(id_pos, route_list, maze):\n",
    "    pass"
   ]
  },
  {
   "cell_type": "code",
   "execution_count": 12,
   "id": "0a865b54",
   "metadata": {},
   "outputs": [
    {
     "data": {
      "text/plain": [
       "[(2, 4), (4, 5), (5, 6), (6, 9)]"
      ]
     },
     "execution_count": 12,
     "metadata": {},
     "output_type": "execute_result"
    }
   ],
   "source": [
    "testroute = route_list[0]\n",
    "testroute"
   ]
  },
  {
   "cell_type": "code",
   "execution_count": 13,
   "id": "9a85399f",
   "metadata": {},
   "outputs": [
    {
     "name": "stdout",
     "output_type": "stream",
     "text": [
      "[(Position(y_axis=18, x_axis=5), Position(y_axis=6, x_axis=18)), (Position(y_axis=6, x_axis=18), Position(y_axis=2, x_axis=14)), (Position(y_axis=2, x_axis=14), Position(y_axis=12, x_axis=9)), (Position(y_axis=12, x_axis=9), Position(y_axis=1, x_axis=10))]\n",
      "[(Position(y_axis=18, x_axis=5), Position(y_axis=6, x_axis=18)), (Position(y_axis=6, x_axis=18), Position(y_axis=12, x_axis=9)), (Position(y_axis=12, x_axis=9), Position(y_axis=2, x_axis=14)), (Position(y_axis=2, x_axis=14), Position(y_axis=1, x_axis=10))]\n",
      "[(Position(y_axis=18, x_axis=5), Position(y_axis=2, x_axis=14)), (Position(y_axis=2, x_axis=14), Position(y_axis=6, x_axis=18)), (Position(y_axis=6, x_axis=18), Position(y_axis=12, x_axis=9)), (Position(y_axis=12, x_axis=9), Position(y_axis=1, x_axis=10))]\n",
      "[(Position(y_axis=18, x_axis=5), Position(y_axis=2, x_axis=14)), (Position(y_axis=2, x_axis=14), Position(y_axis=12, x_axis=9)), (Position(y_axis=12, x_axis=9), Position(y_axis=6, x_axis=18)), (Position(y_axis=6, x_axis=18), Position(y_axis=1, x_axis=10))]\n",
      "[(Position(y_axis=18, x_axis=5), Position(y_axis=12, x_axis=9)), (Position(y_axis=12, x_axis=9), Position(y_axis=6, x_axis=18)), (Position(y_axis=6, x_axis=18), Position(y_axis=2, x_axis=14)), (Position(y_axis=2, x_axis=14), Position(y_axis=1, x_axis=10))]\n",
      "[(Position(y_axis=18, x_axis=5), Position(y_axis=12, x_axis=9)), (Position(y_axis=12, x_axis=9), Position(y_axis=2, x_axis=14)), (Position(y_axis=2, x_axis=14), Position(y_axis=6, x_axis=18)), (Position(y_axis=6, x_axis=18), Position(y_axis=1, x_axis=10))]\n"
     ]
    }
   ],
   "source": [
    "\n",
    "def get_position_list(route, id_pos):\n",
    "    poslist = []\n",
    "    for couple in route.path_list:\n",
    "        position0 = id_pos[couple[0]]\n",
    "        position1 = id_pos[couple[1]]\n",
    "        poslist.append((position0, position1))\n",
    "    route.position_list = poslist\n",
    "\n",
    "for route in route_list:\n",
    "    get_position_list(route, id_pos=id_pos)\n",
    "\n",
    "for route in route_list:\n",
    "    print(route.position_list)"
   ]
  },
  {
   "cell_type": "code",
   "execution_count": 14,
   "id": "fa491d96",
   "metadata": {},
   "outputs": [],
   "source": [
    "def calculate_path(route, maze):\n",
    "    pathway = []\n",
    "    for couple in route.position_list:\n",
    "        temp = (astar(maze, couple[0], couple[1]))\n",
    "        temp.pop(0)  # Remove first element\n",
    "        pathway.append(temp)\n",
    "        clean_pathway = []\n",
    "        for path in pathway:  # Merge lists\n",
    "            clean_pathway = clean_pathway + path\n",
    "    route.pathway = clean_pathway\n",
    "    route.weight = len(route.pathway)\n",
    "\n"
   ]
  },
  {
   "cell_type": "code",
   "execution_count": 15,
   "id": "2ace3799",
   "metadata": {},
   "outputs": [
    {
     "data": {
      "text/plain": [
       "60"
      ]
     },
     "execution_count": 15,
     "metadata": {},
     "output_type": "execute_result"
    }
   ],
   "source": [
    "calculate_path(route_list[0], maze.box)\n",
    "route_list[0].pathway\n",
    "route_list[0].weight"
   ]
  },
  {
   "cell_type": "code",
   "execution_count": 16,
   "id": "0ac58984",
   "metadata": {},
   "outputs": [
    {
     "name": "stdout",
     "output_type": "stream",
     "text": [
      "60\n",
      "60\n",
      "60\n",
      "68\n",
      "38\n",
      "46\n"
     ]
    }
   ],
   "source": [
    "for route in route_list:\n",
    "    calculate_path(route, maze.box)\n",
    "\n",
    "for route in route_list:\n",
    "    print(route.weight)"
   ]
  },
  {
   "cell_type": "code",
   "execution_count": 17,
   "id": "7fe662e0-8b57-49bc-a581-8fcf5d465c2f",
   "metadata": {},
   "outputs": [
    {
     "data": {
      "text/plain": [
       "Position(y_axis=1, x_axis=10)"
      ]
     },
     "execution_count": 17,
     "metadata": {},
     "output_type": "execute_result"
    }
   ],
   "source": [
    "characters[0].position"
   ]
  },
  {
   "cell_type": "code",
   "execution_count": 18,
   "id": "afa083c9-1461-46f3-872b-3df99abe82b4",
   "metadata": {},
   "outputs": [
    {
     "data": {
      "text/plain": [
       "Position(y_axis=18, x_axis=5)"
      ]
     },
     "execution_count": 18,
     "metadata": {},
     "output_type": "execute_result"
    }
   ],
   "source": [
    "characters[1].position"
   ]
  },
  {
   "cell_type": "code",
   "execution_count": 19,
   "id": "cff060e7-7f7c-4a7a-9bc2-7203d4d22f38",
   "metadata": {},
   "outputs": [],
   "source": [
    "test_map = maze.box.tolist()  # Useless"
   ]
  },
  {
   "cell_type": "code",
   "execution_count": 20,
   "id": "f3f26801",
   "metadata": {},
   "outputs": [],
   "source": [
    "start = (characters[0].position[0], characters[0].position[1])\n",
    "end = (characters[1].position[0], characters[1].position[1])"
   ]
  },
  {
   "cell_type": "code",
   "execution_count": 21,
   "id": "36fe0f37",
   "metadata": {},
   "outputs": [
    {
     "data": {
      "text/plain": [
       "Position(y_axis=1, x_axis=10)"
      ]
     },
     "execution_count": 21,
     "metadata": {},
     "output_type": "execute_result"
    }
   ],
   "source": [
    "characters[0].position\n"
   ]
  },
  {
   "cell_type": "code",
   "execution_count": 22,
   "id": "f73a5cc5",
   "metadata": {},
   "outputs": [],
   "source": [
    "start = (characters[0].position[0], characters[0].position[1])\n",
    "end = (characters[1].position[0], characters[1].position[1])\n",
    "\n",
    "path = astar(maze=test_map, start=start, end=end)"
   ]
  },
  {
   "cell_type": "code",
   "execution_count": 23,
   "id": "29af43ca",
   "metadata": {},
   "outputs": [
    {
     "data": {
      "text/plain": [
       "[(1, 10),\n",
       " (2, 10),\n",
       " (3, 10),\n",
       " (4, 10),\n",
       " (5, 10),\n",
       " (6, 10),\n",
       " (7, 10),\n",
       " (8, 10),\n",
       " (9, 10),\n",
       " (10, 10),\n",
       " (11, 10),\n",
       " (12, 10),\n",
       " (13, 10),\n",
       " (13, 9),\n",
       " (14, 9),\n",
       " (14, 8),\n",
       " (14, 7),\n",
       " (14, 6),\n",
       " (15, 6),\n",
       " (16, 6),\n",
       " (17, 6),\n",
       " (17, 5),\n",
       " (18, 5)]"
      ]
     },
     "execution_count": 23,
     "metadata": {},
     "output_type": "execute_result"
    }
   ],
   "source": [
    "path"
   ]
  },
  {
   "cell_type": "code",
   "execution_count": 24,
   "id": "1d1a2c3c",
   "metadata": {},
   "outputs": [
    {
     "name": "stdout",
     "output_type": "stream",
     "text": [
      "60\n",
      "60\n",
      "60\n",
      "68\n",
      "38\n",
      "46\n"
     ]
    },
    {
     "data": {
      "text/plain": [
       "38"
      ]
     },
     "execution_count": 24,
     "metadata": {},
     "output_type": "execute_result"
    }
   ],
   "source": [
    "for route in route_list:\n",
    "    print(route.weight)\n",
    "\n",
    "sorted(route_list, key=lambda x: x.weight)[0].weight"
   ]
  },
  {
   "cell_type": "code",
   "execution_count": 30,
   "id": "46385961",
   "metadata": {},
   "outputs": [
    {
     "data": {
      "text/plain": [
       "[tablet, glasses, toy]"
      ]
     },
     "execution_count": 30,
     "metadata": {},
     "output_type": "execute_result"
    }
   ],
   "source": [
    "items"
   ]
  },
  {
   "cell_type": "code",
   "execution_count": 31,
   "id": "cde5b6d3",
   "metadata": {},
   "outputs": [],
   "source": [
    "bernard = characters[1]"
   ]
  },
  {
   "cell_type": "code",
   "execution_count": 33,
   "id": "aba990be",
   "metadata": {},
   "outputs": [
    {
     "data": {
      "text/plain": [
       "True"
      ]
     },
     "execution_count": 33,
     "metadata": {},
     "output_type": "execute_result"
    }
   ],
   "source": []
  },
  {
   "cell_type": "code",
   "execution_count": null,
   "id": "f20f6621",
   "metadata": {},
   "outputs": [],
   "source": []
  }
 ],
 "metadata": {
  "interpreter": {
   "hash": "01008015b6b75d4b1862d2404a4bd5381dbadf658259646f27a1b3edc8549aa6"
  },
  "kernelspec": {
   "display_name": "Python 3 (ipykernel)",
   "language": "python",
   "name": "python3"
  },
  "language_info": {
   "codemirror_mode": {
    "name": "ipython",
    "version": 3
   },
   "file_extension": ".py",
   "mimetype": "text/x-python",
   "name": "python",
   "nbconvert_exporter": "python",
   "pygments_lexer": "ipython3",
   "version": "3.10.0"
  }
 },
 "nbformat": 4,
 "nbformat_minor": 5
}
